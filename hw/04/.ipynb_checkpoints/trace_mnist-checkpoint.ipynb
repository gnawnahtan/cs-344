{
 "cells": [
  {
   "cell_type": "markdown",
   "id": "96848edf",
   "metadata": {
    "id": "96848edf"
   },
   "source": [
    "# Trace Simple Image Classifier\n",
    "\n",
    "Task: trace and explain the dimensionality of each tensor in a simple image classifier."
   ]
  },
  {
   "cell_type": "markdown",
   "id": "900e7193",
   "metadata": {
    "id": "900e7193"
   },
   "source": [
    "## Setup"
   ]
  },
  {
   "cell_type": "code",
   "execution_count": 1,
   "id": "2j36UWdoA5Va",
   "metadata": {
    "colab": {
     "base_uri": "https://localhost:8080/"
    },
    "id": "2j36UWdoA5Va",
    "outputId": "c43d75d5-b607-472f-836b-1b841e4fe676"
   },
   "outputs": [
    {
     "name": "stdout",
     "output_type": "stream",
     "text": [
      "Requirement already satisfied: fastbook in /usr/local/lib/python3.7/dist-packages (0.0.18)\n",
      "Requirement already satisfied: pip in /usr/local/lib/python3.7/dist-packages (from fastbook) (21.1.3)\n",
      "Requirement already satisfied: fastai>=2.5 in /usr/local/lib/python3.7/dist-packages (from fastbook) (2.5.3)\n",
      "Requirement already satisfied: pandas in /usr/local/lib/python3.7/dist-packages (from fastbook) (1.3.5)\n",
      "Requirement already satisfied: nbdev>=0.2.38 in /usr/local/lib/python3.7/dist-packages (from fastbook) (1.1.23)\n",
      "Requirement already satisfied: requests in /usr/local/lib/python3.7/dist-packages (from fastbook) (2.23.0)\n",
      "Requirement already satisfied: sentencepiece in /usr/local/lib/python3.7/dist-packages (from fastbook) (0.1.96)\n",
      "Requirement already satisfied: ipywidgets in /usr/local/lib/python3.7/dist-packages (from fastbook) (7.6.5)\n",
      "Requirement already satisfied: packaging in /usr/local/lib/python3.7/dist-packages (from fastbook) (21.3)\n",
      "Requirement already satisfied: matplotlib in /usr/local/lib/python3.7/dist-packages (from fastai>=2.5->fastbook) (3.2.2)\n",
      "Requirement already satisfied: scikit-learn in /usr/local/lib/python3.7/dist-packages (from fastai>=2.5->fastbook) (1.0.2)\n",
      "Requirement already satisfied: pyyaml in /usr/local/lib/python3.7/dist-packages (from fastai>=2.5->fastbook) (3.13)\n",
      "Requirement already satisfied: torch<1.11,>=1.7.0 in /usr/local/lib/python3.7/dist-packages (from fastai>=2.5->fastbook) (1.10.0+cu111)\n",
      "Requirement already satisfied: pillow>6.0.0 in /usr/local/lib/python3.7/dist-packages (from fastai>=2.5->fastbook) (7.1.2)\n",
      "Requirement already satisfied: fastdownload<2,>=0.0.5 in /usr/local/lib/python3.7/dist-packages (from fastai>=2.5->fastbook) (0.0.5)\n",
      "Requirement already satisfied: fastprogress>=0.2.4 in /usr/local/lib/python3.7/dist-packages (from fastai>=2.5->fastbook) (1.0.0)\n",
      "Requirement already satisfied: scipy in /usr/local/lib/python3.7/dist-packages (from fastai>=2.5->fastbook) (1.4.1)\n",
      "Requirement already satisfied: fastcore<1.4,>=1.3.22 in /usr/local/lib/python3.7/dist-packages (from fastai>=2.5->fastbook) (1.3.27)\n",
      "Requirement already satisfied: torchvision>=0.8.2 in /usr/local/lib/python3.7/dist-packages (from fastai>=2.5->fastbook) (0.11.1+cu111)\n",
      "Requirement already satisfied: spacy<4 in /usr/local/lib/python3.7/dist-packages (from fastai>=2.5->fastbook) (2.2.4)\n",
      "Requirement already satisfied: numpy in /usr/local/lib/python3.7/dist-packages (from fastprogress>=0.2.4->fastai>=2.5->fastbook) (1.19.5)\n",
      "Requirement already satisfied: jupyter in /usr/local/lib/python3.7/dist-packages (from nbdev>=0.2.38->fastbook) (1.0.0)\n",
      "Requirement already satisfied: ipykernel in /usr/local/lib/python3.7/dist-packages (from nbdev>=0.2.38->fastbook) (4.10.1)\n",
      "Requirement already satisfied: ghapi in /usr/local/lib/python3.7/dist-packages (from nbdev>=0.2.38->fastbook) (0.1.19)\n",
      "Requirement already satisfied: nbformat>=4.4.0 in /usr/local/lib/python3.7/dist-packages (from nbdev>=0.2.38->fastbook) (5.1.3)\n",
      "Requirement already satisfied: jupyter-client<7.0 in /usr/local/lib/python3.7/dist-packages (from nbdev>=0.2.38->fastbook) (5.3.5)\n",
      "Requirement already satisfied: nbconvert<6 in /usr/local/lib/python3.7/dist-packages (from nbdev>=0.2.38->fastbook) (5.6.1)\n",
      "Requirement already satisfied: fastrelease in /usr/local/lib/python3.7/dist-packages (from nbdev>=0.2.38->fastbook) (0.1.12)\n",
      "Requirement already satisfied: tornado>=4.1 in /usr/local/lib/python3.7/dist-packages (from jupyter-client<7.0->nbdev>=0.2.38->fastbook) (5.1.1)\n",
      "Requirement already satisfied: python-dateutil>=2.1 in /usr/local/lib/python3.7/dist-packages (from jupyter-client<7.0->nbdev>=0.2.38->fastbook) (2.8.2)\n",
      "Requirement already satisfied: traitlets in /usr/local/lib/python3.7/dist-packages (from jupyter-client<7.0->nbdev>=0.2.38->fastbook) (5.1.1)\n",
      "Requirement already satisfied: pyzmq>=13 in /usr/local/lib/python3.7/dist-packages (from jupyter-client<7.0->nbdev>=0.2.38->fastbook) (22.3.0)\n",
      "Requirement already satisfied: jupyter-core>=4.6.0 in /usr/local/lib/python3.7/dist-packages (from jupyter-client<7.0->nbdev>=0.2.38->fastbook) (4.9.1)\n",
      "Requirement already satisfied: bleach in /usr/local/lib/python3.7/dist-packages (from nbconvert<6->nbdev>=0.2.38->fastbook) (4.1.0)\n",
      "Requirement already satisfied: mistune<2,>=0.8.1 in /usr/local/lib/python3.7/dist-packages (from nbconvert<6->nbdev>=0.2.38->fastbook) (0.8.4)\n",
      "Requirement already satisfied: pygments in /usr/local/lib/python3.7/dist-packages (from nbconvert<6->nbdev>=0.2.38->fastbook) (2.6.1)\n",
      "Requirement already satisfied: entrypoints>=0.2.2 in /usr/local/lib/python3.7/dist-packages (from nbconvert<6->nbdev>=0.2.38->fastbook) (0.4)\n",
      "Requirement already satisfied: testpath in /usr/local/lib/python3.7/dist-packages (from nbconvert<6->nbdev>=0.2.38->fastbook) (0.5.0)\n",
      "Requirement already satisfied: defusedxml in /usr/local/lib/python3.7/dist-packages (from nbconvert<6->nbdev>=0.2.38->fastbook) (0.7.1)\n",
      "Requirement already satisfied: jinja2>=2.4 in /usr/local/lib/python3.7/dist-packages (from nbconvert<6->nbdev>=0.2.38->fastbook) (2.11.3)\n",
      "Requirement already satisfied: pandocfilters>=1.4.1 in /usr/local/lib/python3.7/dist-packages (from nbconvert<6->nbdev>=0.2.38->fastbook) (1.5.0)\n",
      "Requirement already satisfied: MarkupSafe>=0.23 in /usr/local/lib/python3.7/dist-packages (from jinja2>=2.4->nbconvert<6->nbdev>=0.2.38->fastbook) (2.0.1)\n",
      "Requirement already satisfied: jsonschema!=2.5.0,>=2.4 in /usr/local/lib/python3.7/dist-packages (from nbformat>=4.4.0->nbdev>=0.2.38->fastbook) (4.3.3)\n",
      "Requirement already satisfied: ipython-genutils in /usr/local/lib/python3.7/dist-packages (from nbformat>=4.4.0->nbdev>=0.2.38->fastbook) (0.2.0)\n",
      "Requirement already satisfied: importlib-metadata in /usr/local/lib/python3.7/dist-packages (from jsonschema!=2.5.0,>=2.4->nbformat>=4.4.0->nbdev>=0.2.38->fastbook) (4.10.1)\n",
      "Requirement already satisfied: attrs>=17.4.0 in /usr/local/lib/python3.7/dist-packages (from jsonschema!=2.5.0,>=2.4->nbformat>=4.4.0->nbdev>=0.2.38->fastbook) (21.4.0)\n",
      "Requirement already satisfied: importlib-resources>=1.4.0 in /usr/local/lib/python3.7/dist-packages (from jsonschema!=2.5.0,>=2.4->nbformat>=4.4.0->nbdev>=0.2.38->fastbook) (5.4.0)\n",
      "Requirement already satisfied: pyrsistent!=0.17.0,!=0.17.1,!=0.17.2,>=0.14.0 in /usr/local/lib/python3.7/dist-packages (from jsonschema!=2.5.0,>=2.4->nbformat>=4.4.0->nbdev>=0.2.38->fastbook) (0.18.1)\n",
      "Requirement already satisfied: typing-extensions in /usr/local/lib/python3.7/dist-packages (from jsonschema!=2.5.0,>=2.4->nbformat>=4.4.0->nbdev>=0.2.38->fastbook) (3.10.0.2)\n",
      "Requirement already satisfied: zipp>=3.1.0 in /usr/local/lib/python3.7/dist-packages (from importlib-resources>=1.4.0->jsonschema!=2.5.0,>=2.4->nbformat>=4.4.0->nbdev>=0.2.38->fastbook) (3.7.0)\n",
      "Requirement already satisfied: six>=1.5 in /usr/local/lib/python3.7/dist-packages (from python-dateutil>=2.1->jupyter-client<7.0->nbdev>=0.2.38->fastbook) (1.15.0)\n",
      "Requirement already satisfied: wasabi<1.1.0,>=0.4.0 in /usr/local/lib/python3.7/dist-packages (from spacy<4->fastai>=2.5->fastbook) (0.9.0)\n",
      "Requirement already satisfied: preshed<3.1.0,>=3.0.2 in /usr/local/lib/python3.7/dist-packages (from spacy<4->fastai>=2.5->fastbook) (3.0.6)\n",
      "Requirement already satisfied: blis<0.5.0,>=0.4.0 in /usr/local/lib/python3.7/dist-packages (from spacy<4->fastai>=2.5->fastbook) (0.4.1)\n",
      "Requirement already satisfied: setuptools in /usr/local/lib/python3.7/dist-packages (from spacy<4->fastai>=2.5->fastbook) (57.4.0)\n",
      "Requirement already satisfied: cymem<2.1.0,>=2.0.2 in /usr/local/lib/python3.7/dist-packages (from spacy<4->fastai>=2.5->fastbook) (2.0.6)\n",
      "Requirement already satisfied: thinc==7.4.0 in /usr/local/lib/python3.7/dist-packages (from spacy<4->fastai>=2.5->fastbook) (7.4.0)\n",
      "Requirement already satisfied: murmurhash<1.1.0,>=0.28.0 in /usr/local/lib/python3.7/dist-packages (from spacy<4->fastai>=2.5->fastbook) (1.0.6)\n",
      "Requirement already satisfied: srsly<1.1.0,>=1.0.2 in /usr/local/lib/python3.7/dist-packages (from spacy<4->fastai>=2.5->fastbook) (1.0.5)\n",
      "Requirement already satisfied: catalogue<1.1.0,>=0.0.7 in /usr/local/lib/python3.7/dist-packages (from spacy<4->fastai>=2.5->fastbook) (1.0.0)\n",
      "Requirement already satisfied: tqdm<5.0.0,>=4.38.0 in /usr/local/lib/python3.7/dist-packages (from spacy<4->fastai>=2.5->fastbook) (4.62.3)\n",
      "Requirement already satisfied: plac<1.2.0,>=0.9.6 in /usr/local/lib/python3.7/dist-packages (from spacy<4->fastai>=2.5->fastbook) (1.1.3)\n",
      "Requirement already satisfied: idna<3,>=2.5 in /usr/local/lib/python3.7/dist-packages (from requests->fastbook) (2.10)\n",
      "Requirement already satisfied: chardet<4,>=3.0.2 in /usr/local/lib/python3.7/dist-packages (from requests->fastbook) (3.0.4)\n",
      "Requirement already satisfied: certifi>=2017.4.17 in /usr/local/lib/python3.7/dist-packages (from requests->fastbook) (2021.10.8)\n",
      "Requirement already satisfied: urllib3!=1.25.0,!=1.25.1,<1.26,>=1.21.1 in /usr/local/lib/python3.7/dist-packages (from requests->fastbook) (1.24.3)\n",
      "Requirement already satisfied: webencodings in /usr/local/lib/python3.7/dist-packages (from bleach->nbconvert<6->nbdev>=0.2.38->fastbook) (0.5.1)\n",
      "Requirement already satisfied: ipython>=4.0.0 in /usr/local/lib/python3.7/dist-packages (from ipykernel->nbdev>=0.2.38->fastbook) (5.5.0)\n",
      "Requirement already satisfied: prompt-toolkit<2.0.0,>=1.0.4 in /usr/local/lib/python3.7/dist-packages (from ipython>=4.0.0->ipykernel->nbdev>=0.2.38->fastbook) (1.0.18)\n",
      "Requirement already satisfied: simplegeneric>0.8 in /usr/local/lib/python3.7/dist-packages (from ipython>=4.0.0->ipykernel->nbdev>=0.2.38->fastbook) (0.8.1)\n",
      "Requirement already satisfied: pexpect in /usr/local/lib/python3.7/dist-packages (from ipython>=4.0.0->ipykernel->nbdev>=0.2.38->fastbook) (4.8.0)\n",
      "Requirement already satisfied: decorator in /usr/local/lib/python3.7/dist-packages (from ipython>=4.0.0->ipykernel->nbdev>=0.2.38->fastbook) (4.4.2)\n",
      "Requirement already satisfied: pickleshare in /usr/local/lib/python3.7/dist-packages (from ipython>=4.0.0->ipykernel->nbdev>=0.2.38->fastbook) (0.7.5)\n",
      "Requirement already satisfied: wcwidth in /usr/local/lib/python3.7/dist-packages (from prompt-toolkit<2.0.0,>=1.0.4->ipython>=4.0.0->ipykernel->nbdev>=0.2.38->fastbook) (0.2.5)\n",
      "Requirement already satisfied: jupyterlab-widgets>=1.0.0 in /usr/local/lib/python3.7/dist-packages (from ipywidgets->fastbook) (1.0.2)\n",
      "Requirement already satisfied: widgetsnbextension~=3.5.0 in /usr/local/lib/python3.7/dist-packages (from ipywidgets->fastbook) (3.5.2)\n",
      "Requirement already satisfied: notebook>=4.4.1 in /usr/local/lib/python3.7/dist-packages (from widgetsnbextension~=3.5.0->ipywidgets->fastbook) (5.3.1)\n",
      "Requirement already satisfied: Send2Trash in /usr/local/lib/python3.7/dist-packages (from notebook>=4.4.1->widgetsnbextension~=3.5.0->ipywidgets->fastbook) (1.8.0)\n",
      "Requirement already satisfied: terminado>=0.8.1 in /usr/local/lib/python3.7/dist-packages (from notebook>=4.4.1->widgetsnbextension~=3.5.0->ipywidgets->fastbook) (0.13.1)\n",
      "Requirement already satisfied: ptyprocess in /usr/local/lib/python3.7/dist-packages (from terminado>=0.8.1->notebook>=4.4.1->widgetsnbextension~=3.5.0->ipywidgets->fastbook) (0.7.0)\n",
      "Requirement already satisfied: qtconsole in /usr/local/lib/python3.7/dist-packages (from jupyter->nbdev>=0.2.38->fastbook) (5.2.2)\n",
      "Requirement already satisfied: jupyter-console in /usr/local/lib/python3.7/dist-packages (from jupyter->nbdev>=0.2.38->fastbook) (5.2.0)\n",
      "Requirement already satisfied: cycler>=0.10 in /usr/local/lib/python3.7/dist-packages (from matplotlib->fastai>=2.5->fastbook) (0.11.0)\n",
      "Requirement already satisfied: kiwisolver>=1.0.1 in /usr/local/lib/python3.7/dist-packages (from matplotlib->fastai>=2.5->fastbook) (1.3.2)\n",
      "Requirement already satisfied: pyparsing!=2.0.4,!=2.1.2,!=2.1.6,>=2.0.1 in /usr/local/lib/python3.7/dist-packages (from matplotlib->fastai>=2.5->fastbook) (3.0.7)\n",
      "Requirement already satisfied: pytz>=2017.3 in /usr/local/lib/python3.7/dist-packages (from pandas->fastbook) (2018.9)\n",
      "Requirement already satisfied: qtpy in /usr/local/lib/python3.7/dist-packages (from qtconsole->jupyter->nbdev>=0.2.38->fastbook) (2.0.1)\n",
      "Requirement already satisfied: joblib>=0.11 in /usr/local/lib/python3.7/dist-packages (from scikit-learn->fastai>=2.5->fastbook) (1.1.0)\n",
      "Requirement already satisfied: threadpoolctl>=2.0.0 in /usr/local/lib/python3.7/dist-packages (from scikit-learn->fastai>=2.5->fastbook) (3.1.0)\n"
     ]
    }
   ],
   "source": [
    "pip install fastbook"
   ]
  },
  {
   "cell_type": "code",
   "execution_count": 2,
   "id": "abf51f02",
   "metadata": {
    "id": "abf51f02"
   },
   "outputs": [],
   "source": [
    "from fastai.vision.all import *\n",
    "from fastbook import *\n",
    "\n",
    "matplotlib.rc('image', cmap='Greys')"
   ]
  },
  {
   "cell_type": "markdown",
   "id": "5717f1e8",
   "metadata": {
    "id": "5717f1e8"
   },
   "source": [
    "Get some example digits from the MNIST dataset."
   ]
  },
  {
   "cell_type": "code",
   "execution_count": 3,
   "id": "9095b4ae",
   "metadata": {
    "id": "9095b4ae"
   },
   "outputs": [],
   "source": [
    "path = untar_data(URLs.MNIST_SAMPLE)"
   ]
  },
  {
   "cell_type": "code",
   "execution_count": 4,
   "id": "e6cd3f6b",
   "metadata": {
    "colab": {
     "base_uri": "https://localhost:8080/"
    },
    "id": "e6cd3f6b",
    "outputId": "462bc5c6-c98d-4f84-fbc0-38b42226cb40"
   },
   "outputs": [
    {
     "data": {
      "text/plain": [
       "(6131, 6265)"
      ]
     },
     "execution_count": 4,
     "metadata": {},
     "output_type": "execute_result"
    }
   ],
   "source": [
    "threes = (path/'train'/'3').ls().sorted()\n",
    "sevens = (path/'train'/'7').ls().sorted()\n",
    "len(threes), len(sevens)"
   ]
  },
  {
   "cell_type": "markdown",
   "id": "8180c642",
   "metadata": {
    "id": "8180c642"
   },
   "source": [
    "Here is one image:"
   ]
  },
  {
   "cell_type": "code",
   "execution_count": 5,
   "id": "54fa7557",
   "metadata": {
    "colab": {
     "base_uri": "https://localhost:8080/",
     "height": 45
    },
    "id": "54fa7557",
    "outputId": "091ade77-0897-4c4d-82b3-fe22942b0d5b"
   },
   "outputs": [
    {
     "data": {
      "image/png": "[encoded data removed]",
      "text/plain": [
       "<PIL.PngImagePlugin.PngImageFile image mode=L size=28x28 at 0x7F7547842DD0>"
      ]
     },
     "execution_count": 5,
     "metadata": {},
     "output_type": "execute_result"
    }
   ],
   "source": [
    "example_3 = Image.open(threes[1])\n",
    "example_3"
   ]
  },
  {
   "cell_type": "markdown",
   "id": "39d16aed",
   "metadata": {
    "id": "39d16aed"
   },
   "source": [
    "To prepare to use it as input to a neural net, we first convert integers from 0 to 255 into floating point numbers between 0 and 1."
   ]
  },
  {
   "cell_type": "code",
   "execution_count": 6,
   "id": "7406d76e",
   "metadata": {
    "colab": {
     "base_uri": "https://localhost:8080/"
    },
    "id": "7406d76e",
    "outputId": "0b0a5f9e-2b94-4576-9964-7256295d7064"
   },
   "outputs": [
    {
     "data": {
      "text/plain": [
       "torch.Size([28, 28])"
      ]
     },
     "execution_count": 6,
     "metadata": {},
     "output_type": "execute_result"
    }
   ],
   "source": [
    "example_3_tensor = tensor(example_3).float() / 255\n",
    "example_3_tensor.shape"
   ]
  },
  {
   "cell_type": "code",
   "execution_count": 7,
   "id": "de44e0ef",
   "metadata": {
    "id": "de44e0ef"
   },
   "outputs": [],
   "source": [
    "height, width = example_3_tensor.shape"
   ]
  },
  {
   "cell_type": "markdown",
   "id": "647e66e8",
   "metadata": {
    "id": "647e66e8"
   },
   "source": [
    "Our particular network will ignore the spatial relationship between the features; later we'll learn about network architectures that do pay attention to spatial neighbors. So we'll *flatten* the image tensor into 28\\*28 values."
   ]
  },
  {
   "cell_type": "code",
   "execution_count": 8,
   "id": "4c43e173",
   "metadata": {
    "colab": {
     "base_uri": "https://localhost:8080/"
    },
    "id": "4c43e173",
    "outputId": "a4912f69-4e36-400c-8427-1e9efa32f1fe"
   },
   "outputs": [
    {
     "data": {
      "text/plain": [
       "torch.Size([784])"
      ]
     },
     "execution_count": 8,
     "metadata": {},
     "output_type": "execute_result"
    }
   ],
   "source": [
    "example_3_flat = example_3_tensor.view(width * height)\n",
    "example_3_flat.shape"
   ]
  },
  {
   "cell_type": "markdown",
   "id": "edee9e07",
   "metadata": {
    "id": "edee9e07"
   },
   "source": [
    "## Task\n",
    "\n"
   ]
  },
  {
   "cell_type": "markdown",
   "id": "e1fcae10",
   "metadata": {
    "id": "e1fcae10"
   },
   "source": [
    "We'll define a simple neural network (in the book, a 3-vs-7 classifier) as the sequential combination of 3 layers. First we define each layer:"
   ]
  },
  {
   "cell_type": "code",
   "execution_count": 15,
   "id": "ca205bd4",
   "metadata": {
    "id": "ca205bd4"
   },
   "outputs": [],
   "source": [
    "# Define the layers. This is where you'll try changing constants.\n",
    "linear_1 = nn.Linear(in_features=784, out_features=30)\n",
    "relu_layer = nn.ReLU()\n",
    "linear_2 = nn.Linear(in_features=30, out_features=4)"
   ]
  },
  {
   "cell_type": "code",
   "execution_count": 9,
   "id": "EgWLeeCeGCGG",
   "metadata": {
    "id": "EgWLeeCeGCGG"
   },
   "outputs": [],
   "source": [
    "# Define the layers. This is where you'll try changing constants.\n",
    "linear_1 = nn.Linear(in_features=900, out_features=15)\n",
    "relu_layer = nn.ReLU()\n",
    "linear_2 = nn.Linear(in_features=15, out_features=5)"
   ]
  },
  {
   "cell_type": "markdown",
   "id": "90861399",
   "metadata": {
    "id": "90861399"
   },
   "source": [
    "Then we put them together in sequence."
   ]
  },
  {
   "cell_type": "code",
   "execution_count": 16,
   "id": "4502d4f6",
   "metadata": {
    "id": "4502d4f6"
   },
   "outputs": [],
   "source": [
    "simple_net = nn.Sequential(\n",
    "    linear_1,\n",
    "    relu_layer,\n",
    "    linear_2\n",
    ")"
   ]
  },
  {
   "cell_type": "markdown",
   "id": "cc9b2970",
   "metadata": {
    "id": "cc9b2970"
   },
   "source": [
    "Each of `nn.Linear`, `nn.ReLU`, and `nn.Squential` are PyTorch *modules*. We can *call* a module with some input data to get the output data:"
   ]
  },
  {
   "cell_type": "code",
   "execution_count": 17,
   "id": "b55251f7",
   "metadata": {
    "colab": {
     "base_uri": "https://localhost:8080/"
    },
    "id": "b55251f7",
    "outputId": "e85372cf-582c-4233-a742-48d3f386cb1a"
   },
   "outputs": [
    {
     "data": {
      "text/plain": [
       "tensor([-0.2064,  0.2949,  0.1722, -0.1495], grad_fn=<AddBackward0>)"
      ]
     },
     "execution_count": 17,
     "metadata": {},
     "output_type": "execute_result"
    }
   ],
   "source": [
    "simple_net(example_3_flat)"
   ]
  },
  {
   "cell_type": "markdown",
   "id": "1189506e",
   "metadata": {
    "id": "1189506e"
   },
   "source": [
    "Your turn:"
   ]
  },
  {
   "cell_type": "markdown",
   "id": "f479d8e7",
   "metadata": {
    "id": "f479d8e7"
   },
   "source": [
    "1. Obtain the same result as the line above by applying each layer in sequence.\n",
    "\n",
    "The outputs of each layer are called *activations*, so we can name the variables `act1` for the activations of layer 1, and so forth."
   ]
  },
  {
   "cell_type": "code",
   "execution_count": 11,
   "id": "8ffb847c",
   "metadata": {
    "id": "8ffb847c"
   },
   "outputs": [],
   "source": [
    "inp = example_3_flat\n",
    "act1 = linear_1(inp)"
   ]
  },
  {
   "cell_type": "code",
   "execution_count": 13,
   "id": "a8f52ebc",
   "metadata": {
    "id": "a8f52ebc"
   },
   "outputs": [],
   "source": [
    "act2 = relu_layer(act1)"
   ]
  },
  {
   "cell_type": "code",
   "execution_count": 14,
   "id": "06cc6aa5",
   "metadata": {
    "id": "06cc6aa5"
   },
   "outputs": [],
   "source": [
    "act3 = linear_2(act2)"
   ]
  },
  {
   "cell_type": "markdown",
   "id": "555cf6ec",
   "metadata": {
    "id": "555cf6ec"
   },
   "source": [
    "2. Evaluate `act1`, `act2`, and `act3`. (Code already provided; look at the results.)"
   ]
  },
  {
   "cell_type": "code",
   "execution_count": 15,
   "id": "71fb50cb",
   "metadata": {
    "colab": {
     "base_uri": "https://localhost:8080/"
    },
    "id": "71fb50cb",
    "outputId": "9b150db7-7b3e-4623-8dc4-00cf5e35399b"
   },
   "outputs": [
    {
     "data": {
      "text/plain": [
       "tensor([-0.1971, -0.2886,  0.2023, -0.0984,  0.1338, -0.1604,  0.2701, -0.3103,  0.2313,  0.1280, -0.3245,  0.1302, -0.1761, -0.1394,  0.0234, -0.1384,  0.3531,  0.5236, -0.1388,  0.1109,  0.0033,\n",
       "         0.1793, -0.3673, -0.0706, -0.1324, -0.4853,  0.3566,  0.1476, -0.2868, -0.0929], grad_fn=<AddBackward0>)"
      ]
     },
     "execution_count": 15,
     "metadata": {},
     "output_type": "execute_result"
    }
   ],
   "source": [
    "act1"
   ]
  },
  {
   "cell_type": "code",
   "execution_count": 16,
   "id": "717a140f",
   "metadata": {
    "colab": {
     "base_uri": "https://localhost:8080/"
    },
    "id": "717a140f",
    "outputId": "1d4c8649-0d19-4a77-c67c-2e253181815b"
   },
   "outputs": [
    {
     "data": {
      "text/plain": [
       "tensor([0.0000, 0.0000, 0.2023, 0.0000, 0.1338, 0.0000, 0.2701, 0.0000, 0.2313, 0.1280, 0.0000, 0.1302, 0.0000, 0.0000, 0.0234, 0.0000, 0.3531, 0.5236, 0.0000, 0.1109, 0.0033, 0.1793, 0.0000, 0.0000,\n",
       "        0.0000, 0.0000, 0.3566, 0.1476, 0.0000, 0.0000], grad_fn=<ReluBackward0>)"
      ]
     },
     "execution_count": 16,
     "metadata": {},
     "output_type": "execute_result"
    }
   ],
   "source": [
    "act2"
   ]
  },
  {
   "cell_type": "code",
   "execution_count": 17,
   "id": "021ede80",
   "metadata": {
    "colab": {
     "base_uri": "https://localhost:8080/"
    },
    "id": "021ede80",
    "outputId": "0703b118-bf42-4900-a485-acad48d4d114"
   },
   "outputs": [
    {
     "data": {
      "text/plain": [
       "tensor([-0.1385], grad_fn=<AddBackward0>)"
      ]
     },
     "execution_count": 17,
     "metadata": {},
     "output_type": "execute_result"
    }
   ],
   "source": [
    "act3"
   ]
  },
  {
   "cell_type": "markdown",
   "id": "ff68adbd",
   "metadata": {
    "id": "ff68adbd"
   },
   "source": [
    "2. Evaluate the `shape` of `act1`, `act2`, and `act3`."
   ]
  },
  {
   "cell_type": "code",
   "execution_count": 18,
   "id": "8e8cf98d",
   "metadata": {
    "colab": {
     "base_uri": "https://localhost:8080/"
    },
    "id": "8e8cf98d",
    "outputId": "71d5b20d-e622-4a25-bd16-219b56a6c9b0"
   },
   "outputs": [
    {
     "data": {
      "text/plain": [
       "torch.Size([30])"
      ]
     },
     "execution_count": 18,
     "metadata": {},
     "output_type": "execute_result"
    }
   ],
   "source": [
    "# your code here\n",
    "act1.shape"
   ]
  },
  {
   "cell_type": "code",
   "execution_count": 19,
   "id": "LdyBkkgsDXag",
   "metadata": {
    "colab": {
     "base_uri": "https://localhost:8080/"
    },
    "id": "LdyBkkgsDXag",
    "outputId": "ffd187f3-c2ad-4631-d95f-69a05cf00cee"
   },
   "outputs": [
    {
     "data": {
      "text/plain": [
       "torch.Size([30])"
      ]
     },
     "execution_count": 19,
     "metadata": {},
     "output_type": "execute_result"
    }
   ],
   "source": [
    "act2.shape"
   ]
  },
  {
   "cell_type": "code",
   "execution_count": 20,
   "id": "xveuIM9jDZlN",
   "metadata": {
    "colab": {
     "base_uri": "https://localhost:8080/"
    },
    "id": "xveuIM9jDZlN",
    "outputId": "3a2aab35-4286-4b83-84dc-dafa40280e55"
   },
   "outputs": [
    {
     "data": {
      "text/plain": [
       "torch.Size([1])"
      ]
     },
     "execution_count": 20,
     "metadata": {},
     "output_type": "execute_result"
    }
   ],
   "source": [
    "act3.shape"
   ]
  },
  {
   "cell_type": "markdown",
   "id": "7f9271b1",
   "metadata": {
    "id": "7f9271b1"
   },
   "source": [
    "3. Write expressions for the shapes of each activation in terms of `linear_1.in_features`, `linear_2.out_features`, etc. (ignore the `torch.Size(` part)"
   ]
  },
  {
   "cell_type": "code",
   "execution_count": 21,
   "id": "5d9f61bc",
   "metadata": {
    "colab": {
     "base_uri": "https://localhost:8080/"
    },
    "id": "5d9f61bc",
    "outputId": "8bba5c94-ce04-484e-ff84-da4931447aca"
   },
   "outputs": [
    {
     "data": {
      "text/plain": [
       "784"
      ]
     },
     "execution_count": 21,
     "metadata": {},
     "output_type": "execute_result"
    }
   ],
   "source": [
    "linear_1.in_features"
   ]
  },
  {
   "cell_type": "code",
   "execution_count": 23,
   "id": "ffd3a3e5",
   "metadata": {
    "id": "ffd3a3e5"
   },
   "outputs": [],
   "source": [
    "act1_shape = [linear_1.out_features]\n",
    "act2_shape = [linear_1.out_features]\n",
    "act3_shape = [linear_2.out_features]"
   ]
  },
  {
   "cell_type": "markdown",
   "id": "35ed4000",
   "metadata": {
    "id": "35ed4000"
   },
   "source": [
    "4. Evaluate the `shape` of `linear_1.weight`, `linear_1.bias`, and the same for `linear_2`. Write expressions that give the value of each shape in terms of the `in_features` and other parameters."
   ]
  },
  {
   "cell_type": "code",
   "execution_count": 24,
   "id": "E39Ufx4nEE-l",
   "metadata": {
    "colab": {
     "base_uri": "https://localhost:8080/"
    },
    "id": "E39Ufx4nEE-l",
    "outputId": "73c29c77-d3fe-4b6c-8d52-9d3012c73846"
   },
   "outputs": [
    {
     "data": {
      "text/plain": [
       "torch.Size([30, 784])"
      ]
     },
     "execution_count": 24,
     "metadata": {},
     "output_type": "execute_result"
    }
   ],
   "source": [
    "linear_1.weight.shape"
   ]
  },
  {
   "cell_type": "code",
   "execution_count": 25,
   "id": "n6XBrH0QEJ-F",
   "metadata": {
    "colab": {
     "base_uri": "https://localhost:8080/"
    },
    "id": "n6XBrH0QEJ-F",
    "outputId": "c0931c8d-073b-44d5-8ba0-a6e5ad7a6670"
   },
   "outputs": [
    {
     "data": {
      "text/plain": [
       "torch.Size([30])"
      ]
     },
     "execution_count": 25,
     "metadata": {},
     "output_type": "execute_result"
    }
   ],
   "source": [
    "linear_1.bias.shape"
   ]
  },
  {
   "cell_type": "code",
   "execution_count": 26,
   "id": "YwJ882_sESdO",
   "metadata": {
    "colab": {
     "base_uri": "https://localhost:8080/"
    },
    "id": "YwJ882_sESdO",
    "outputId": "31bfcc4b-aedf-432f-a6ce-4aaac4b03ede"
   },
   "outputs": [
    {
     "data": {
      "text/plain": [
       "torch.Size([1, 30])"
      ]
     },
     "execution_count": 26,
     "metadata": {},
     "output_type": "execute_result"
    }
   ],
   "source": [
    "linear_2.weight.shape"
   ]
  },
  {
   "cell_type": "code",
   "execution_count": 27,
   "id": "TSAa-osaEXjN",
   "metadata": {
    "colab": {
     "base_uri": "https://localhost:8080/"
    },
    "id": "TSAa-osaEXjN",
    "outputId": "5e8a245f-a627-4023-bdff-e06304a634e0"
   },
   "outputs": [
    {
     "data": {
      "text/plain": [
       "torch.Size([1])"
      ]
     },
     "execution_count": 27,
     "metadata": {},
     "output_type": "execute_result"
    }
   ],
   "source": [
    "linear_2.bias.shape"
   ]
  },
  {
   "cell_type": "code",
   "execution_count": 28,
   "id": "85b69231",
   "metadata": {
    "id": "85b69231"
   },
   "outputs": [],
   "source": [
    "linear_1_weight_shape = [linear_1.out_features, linear_1.in_features]\n",
    "linear_1_bias_shape = [linear_1.out_features]\n",
    "linear_2_weight_shape = [linear_2.out_features, linear_2.in_features]\n",
    "linear_2_bias_shape = [linear_2.out_features]"
   ]
  },
  {
   "cell_type": "markdown",
   "id": "4c76d8e1",
   "metadata": {
    "id": "4c76d8e1"
   },
   "source": [
    "## Analysis"
   ]
  },
  {
   "cell_type": "markdown",
   "id": "fb578c72",
   "metadata": {
    "id": "fb578c72"
   },
   "source": [
    "1. Try changing each of the constants provided to the `nn.Linear` modules. Identify an example of:\n",
    "  1. A constant that can be freely changed in the neural net definition.\n",
    "  2. A constant that cannot be changed because it depends on the input.\n",
    "  3. A pair of constants that must be changed together."
   ]
  },
  {
   "cell_type": "markdown",
   "id": "292a8c7c",
   "metadata": {
    "id": "292a8c7c"
   },
   "source": [
    "1. Linear 1 `out_features` can be changed freely\n",
    "\n",
    "2. Linear 1 `in_features` cannot be changed freely because it depends on the total number of pixels (width*height).\n",
    "\n",
    "3. Linear 1's `out_feature` and Linear 2's `in_feature` "
   ]
  },
  {
   "cell_type": "markdown",
   "id": "1622d971",
   "metadata": {
    "id": "1622d971"
   },
   "source": [
    "2. Describe the relationship between the values in  `act1` and `act2`."
   ]
  },
  {
   "cell_type": "markdown",
   "id": "82f5d8f1",
   "metadata": {
    "id": "82f5d8f1"
   },
   "source": [
    "Act 2 uses values from Act 1. However, Act 2 (by using ReLu) changes the negatives to 0s in Act 2's tensor."
   ]
  }
 ],
 "metadata": {
  "colab": {
   "collapsed_sections": [],
   "name": "trace-mnist.ipynb",
   "provenance": []
  },
  "kernelspec": {
   "display_name": "Python 3 (ipykernel)",
   "language": "python",
   "name": "python3"
  },
  "language_info": {
   "codemirror_mode": {
    "name": "ipython",
    "version": 3
   },
   "file_extension": ".py",
   "mimetype": "text/x-python",
   "name": "python",
   "nbconvert_exporter": "python",
   "pygments_lexer": "ipython3",
   "version": "3.9.7"
  }
 },
 "nbformat": 4,
 "nbformat_minor": 5
}
